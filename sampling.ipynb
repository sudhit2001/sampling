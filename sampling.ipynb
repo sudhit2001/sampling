{
  "cells": [
    {
      "cell_type": "markdown",
      "metadata": {
        "colab_type": "text",
        "id": "view-in-github"
      },
      "source": [
        "<a href=\"https://colab.research.google.com/github/Agamjot12/Sampling/blob/main/Sampling.ipynb\" target=\"_parent\"><img src=\"https://colab.research.google.com/assets/colab-badge.svg\" alt=\"Open In Colab\"/></a>"
      ]
    },
    {
      "cell_type": "code",
      "execution_count": 32,
      "metadata": {
        "_cell_guid": "b1076dfc-b9ad-4769-8c92-a6c4dae69d19",
        "_uuid": "8f2839f25d086af736a60e9eeb907d3b93b6e0e5",
        "execution": {
          "iopub.execute_input": "2023-02-19T18:50:34.666618Z",
          "iopub.status.busy": "2023-02-19T18:50:34.666263Z",
          "iopub.status.idle": "2023-02-19T18:50:35.534928Z",
          "shell.execute_reply": "2023-02-19T18:50:35.533774Z",
          "shell.execute_reply.started": "2023-02-19T18:50:34.666543Z"
        },
        "id": "TIuVu4o6EQBp",
        "trusted": true
      },
      "outputs": [],
      "source": [
        "import pandas as pd\n",
        "import random\n",
        "import numpy as np\n",
        "\n",
        "from sklearn.model_selection import train_test_split, StratifiedShuffleSplit\n",
        "from sklearn.utils import resample\n",
        "from sklearn.linear_model import LogisticRegression\n",
        "from sklearn.svm import SVC\n",
        "from sklearn.metrics import accuracy_score\n",
        "from sklearn.ensemble import RandomForestClassifier ,AdaBoostClassifier,BaggingClassifier\n",
        "from imblearn.under_sampling import ClusterCentroids,RandomUnderSampler ,EditedNearestNeighbours\n",
        "from imblearn.over_sampling import ADASYN ,RandomOverSampler , SMOTE , BorderlineSMOTE"
      ]
    },
    {
      "cell_type": "code",
      "execution_count": 16,
      "metadata": {
        "execution": {
          "iopub.execute_input": "2023-02-19T18:50:35.536604Z",
          "iopub.status.busy": "2023-02-19T18:50:35.536345Z",
          "iopub.status.idle": "2023-02-19T18:50:35.573120Z",
          "shell.execute_reply": "2023-02-19T18:50:35.571923Z",
          "shell.execute_reply.started": "2023-02-19T18:50:35.536580Z"
        },
        "id": "qXYSDDuLEQBv",
        "trusted": true
      },
      "outputs": [],
      "source": [
        "df = pd.read_csv('https://raw.githubusercontent.com/sudhit2001/sampling/main/Creditcard_data.csv')"
      ]
    },
    {
      "cell_type": "code",
      "execution_count": 17,
      "metadata": {
        "colab": {
          "base_uri": "https://localhost:8080/"
        },
        "execution": {
          "iopub.execute_input": "2023-02-19T18:50:35.575155Z",
          "iopub.status.busy": "2023-02-19T18:50:35.574763Z",
          "iopub.status.idle": "2023-02-19T18:50:35.583237Z",
          "shell.execute_reply": "2023-02-19T18:50:35.581939Z",
          "shell.execute_reply.started": "2023-02-19T18:50:35.575126Z"
        },
        "id": "I_y-fZFrEQBw",
        "outputId": "2ba043e4-5058-418e-de3b-d8566883a1d5",
        "trusted": true
      },
      "outputs": [
        {
          "data": {
            "text/plain": [
              "0    763\n",
              "1      9\n",
              "Name: Class, dtype: int64"
            ]
          },
          "execution_count": 17,
          "metadata": {},
          "output_type": "execute_result"
        }
      ],
      "source": [
        "df.Class.value_counts()"
      ]
    },
    {
      "cell_type": "code",
      "execution_count": 18,
      "metadata": {
        "execution": {
          "iopub.execute_input": "2023-02-19T18:50:35.586616Z",
          "iopub.status.busy": "2023-02-19T18:50:35.586319Z",
          "iopub.status.idle": "2023-02-19T18:50:35.618762Z",
          "shell.execute_reply": "2023-02-19T18:50:35.617948Z",
          "shell.execute_reply.started": "2023-02-19T18:50:35.586592Z"
        },
        "id": "clOFkQGAEQBx",
        "trusted": true
      },
      "outputs": [],
      "source": [
        "x = df.iloc[:,:-1]\n",
        "y = df.iloc[:,-1]"
      ]
    },
    {
      "cell_type": "code",
      "execution_count": 19,
      "metadata": {
        "execution": {
          "iopub.execute_input": "2023-02-19T18:50:35.629176Z",
          "iopub.status.busy": "2023-02-19T18:50:35.628289Z",
          "iopub.status.idle": "2023-02-19T18:50:35.638874Z",
          "shell.execute_reply": "2023-02-19T18:50:35.637446Z",
          "shell.execute_reply.started": "2023-02-19T18:50:35.629141Z"
        },
        "id": "wVgkiyV_EQBz",
        "trusted": true
      },
      "outputs": [],
      "source": [
        "x_train, x_test, y_train, y_test = train_test_split(x, y, test_size=0.25, random_state=42)"
      ]
    },
    {
      "cell_type": "code",
      "execution_count": 20,
      "metadata": {
        "execution": {
          "iopub.execute_input": "2023-02-19T18:50:35.641437Z",
          "iopub.status.busy": "2023-02-19T18:50:35.641028Z",
          "iopub.status.idle": "2023-02-19T18:50:35.682931Z",
          "shell.execute_reply": "2023-02-19T18:50:35.682085Z",
          "shell.execute_reply.started": "2023-02-19T18:50:35.641404Z"
        },
        "id": "CT9yAzXKEQB0",
        "trusted": true
      },
      "outputs": [],
      "source": [
        "os = RandomOverSampler(sampling_strategy='minority')\n",
        "x_over, y_over = os.fit_resample(x_train,y_train)"
      ]
    },
    {
      "cell_type": "code",
      "execution_count": 21,
      "metadata": {
        "execution": {
          "iopub.execute_input": "2023-02-19T18:50:35.694051Z",
          "iopub.status.busy": "2023-02-19T18:50:35.693624Z",
          "iopub.status.idle": "2023-02-19T18:50:35.727639Z",
          "shell.execute_reply": "2023-02-19T18:50:35.726856Z",
          "shell.execute_reply.started": "2023-02-19T18:50:35.693992Z"
        },
        "id": "xvWviSRgEQB1",
        "trusted": true
      },
      "outputs": [],
      "source": [
        "df_over = pd.concat([x_over,y_over],axis=1)"
      ]
    },
    {
      "cell_type": "code",
      "execution_count": 22,
      "metadata": {
        "execution": {
          "iopub.execute_input": "2023-02-19T18:50:35.729175Z",
          "iopub.status.busy": "2023-02-19T18:50:35.728700Z",
          "iopub.status.idle": "2023-02-19T18:50:35.736037Z",
          "shell.execute_reply": "2023-02-19T18:50:35.735068Z",
          "shell.execute_reply.started": "2023-02-19T18:50:35.729149Z"
        },
        "id": "5Lxl_BFgEQB2",
        "trusted": true
      },
      "outputs": [],
      "source": [
        "# Determine the required sample size for the minority class using Cochran's formula\n",
        "p = 0.5   #p=0.5 as exactly half of our dataset lies in strata 0 and the rest in strata 1\n",
        "z = 1.96 # z-score for 95% confidence level\n",
        "m = 0.05 # margin of error\n",
        "n1 = int(np.ceil((z**2 * 0.1 * (1-0.1)) / (m**2)))\n",
        "n2 = int(np.ceil((z**2 * 0.06 * (1-0.06)) / (m**2)))\n",
        "n3 = int(np.ceil((z**2 * 0.05 * (1-0.05)) / (m**2)))\n",
        "n4 = int(np.ceil((z**2 * 0.05 * (1-0.05)) / (m**2)))\n",
        "n5 = int(np.ceil((z**2 * 0.05 * (1-0.05)) / (m**2)))"
      ]
    },
    {
      "cell_type": "code",
      "execution_count": 33,
      "metadata": {
        "execution": {
          "iopub.execute_input": "2023-02-19T18:50:47.648190Z",
          "iopub.status.busy": "2023-02-19T18:50:47.647811Z",
          "iopub.status.idle": "2023-02-19T18:50:47.719713Z",
          "shell.execute_reply": "2023-02-19T18:50:47.718618Z",
          "shell.execute_reply.started": "2023-02-19T18:50:47.648158Z"
        },
        "id": "l4nRDAFKEQB6",
        "trusted": true
      },
      "outputs": [],
      "source": [
        "samplings = {\n",
        "    'Sampling1': ADASYN(),\n",
        "    'Sampling2': SMOTE(),\n",
        "    'Sampling3': RandomUnderSampler(),\n",
        "    'Sampling4': BorderlineSMOTE(),\n",
        "    'Sampling5': ClusterCentroids()\n",
        "    \n",
        "}\n",
        "models = {\n",
        "\n",
        "    'M1': LogisticRegression(),\n",
        "    'M2': AdaBoostClassifier(),\n",
        "    'M3': RandomForestClassifier(),\n",
        "    'M4': SVC(),\n",
        "    'M5': BaggingClassifier()\n",
        "    \n",
        "}\n",
        "samples = {}    \n",
        "for name, sampler in samplings.items():\n",
        "    x_resampled, y_resampled = sampler.fit_resample(x_train, y_train)\n",
        "    samples[name] = (x_resampled, y_resampled)"
      ]
    },
    {
      "cell_type": "code",
      "execution_count": null,
      "metadata": {
        "execution": {
          "iopub.execute_input": "2023-02-19T18:50:47.721695Z",
          "iopub.status.busy": "2023-02-19T18:50:47.721353Z",
          "iopub.status.idle": "2023-02-19T18:50:51.238587Z",
          "shell.execute_reply": "2023-02-19T18:50:51.237585Z",
          "shell.execute_reply.started": "2023-02-19T18:50:47.721663Z"
        },
        "id": "xvYYhkSOEQB9",
        "trusted": true
      },
      "outputs": [],
      "source": [
        "# Evaluate each model on each sampling technique\n",
        "results = []\n",
        "for sampler_name, sampler in samplings.items():\n",
        "    if sampler_name == 'Sampling1':\n",
        "        n = n1\n",
        "    elif sampler_name == 'Sampling2':\n",
        "        n = n2\n",
        "    elif sampler_name == 'Sampling3':\n",
        "        n = n3\n",
        "    elif sampler_name == 'Sampling4':\n",
        "        n = n4\n",
        "    else:\n",
        "        n = n5\n",
        "            \n",
        "results = []\n",
        "for model_name, model in models.items():\n",
        "    model_results = []\n",
        "    for name, (x_resampled, y_resampled) in samples.items():\n",
        "        model.fit(x_resampled, y_resampled)\n",
        "        y_pred = model.predict(x_test)\n",
        "        accuracy = accuracy_score(y_test, y_pred)\n",
        "        model_results.append(accuracy)\n",
        "    results.append(model_results)"
      ]
    },
    {
      "cell_type": "code",
      "execution_count": 36,
      "metadata": {
        "colab": {
          "base_uri": "https://localhost:8080/",
          "height": 201
        },
        "execution": {
          "iopub.execute_input": "2023-02-19T18:50:51.240199Z",
          "iopub.status.busy": "2023-02-19T18:50:51.239900Z",
          "iopub.status.idle": "2023-02-19T18:50:51.262232Z",
          "shell.execute_reply": "2023-02-19T18:50:51.261299Z",
          "shell.execute_reply.started": "2023-02-19T18:50:51.240173Z"
        },
        "id": "zLCzZyb2EQB-",
        "outputId": "fc1ad1aa-8ac6-4edb-a5a4-f28f63bcda71",
        "trusted": true
      },
      "outputs": [
        {
          "data": {
            "text/html": [
              "\n",
              "  <div id=\"df-a7856769-672b-487f-b18d-fee28273e885\">\n",
              "    <div class=\"colab-df-container\">\n",
              "      <div>\n",
              "<style scoped>\n",
              "    .dataframe tbody tr th:only-of-type {\n",
              "        vertical-align: middle;\n",
              "    }\n",
              "\n",
              "    .dataframe tbody tr th {\n",
              "        vertical-align: top;\n",
              "    }\n",
              "\n",
              "    .dataframe thead th {\n",
              "        text-align: right;\n",
              "    }\n",
              "</style>\n",
              "<table border=\"1\" class=\"dataframe\">\n",
              "  <thead>\n",
              "    <tr style=\"text-align: right;\">\n",
              "      <th></th>\n",
              "      <th>ADASYN</th>\n",
              "      <th>SMOTE</th>\n",
              "      <th>RandomUnderSampler</th>\n",
              "      <th>BorderlineSMOTE</th>\n",
              "      <th>ClusterCentroids</th>\n",
              "    </tr>\n",
              "  </thead>\n",
              "  <tbody>\n",
              "    <tr>\n",
              "      <th>LogisticRegression</th>\n",
              "      <td>0.89637</td>\n",
              "      <td>0.87565</td>\n",
              "      <td>0.61140</td>\n",
              "      <td>0.90674</td>\n",
              "      <td>0.76166</td>\n",
              "    </tr>\n",
              "    <tr>\n",
              "      <th>AdaBoostClassifier</th>\n",
              "      <td>0.98446</td>\n",
              "      <td>0.97927</td>\n",
              "      <td>0.81347</td>\n",
              "      <td>0.97927</td>\n",
              "      <td>0.41969</td>\n",
              "    </tr>\n",
              "    <tr>\n",
              "      <th>RandomForestClassifier</th>\n",
              "      <td>0.98446</td>\n",
              "      <td>0.98446</td>\n",
              "      <td>0.78238</td>\n",
              "      <td>0.98964</td>\n",
              "      <td>0.52332</td>\n",
              "    </tr>\n",
              "    <tr>\n",
              "      <th>Support Vector Classifier</th>\n",
              "      <td>0.66839</td>\n",
              "      <td>0.69430</td>\n",
              "      <td>0.68394</td>\n",
              "      <td>0.70984</td>\n",
              "      <td>0.50259</td>\n",
              "    </tr>\n",
              "    <tr>\n",
              "      <th>BaggingClassifier</th>\n",
              "      <td>0.98964</td>\n",
              "      <td>0.98446</td>\n",
              "      <td>0.84456</td>\n",
              "      <td>0.98446</td>\n",
              "      <td>0.62176</td>\n",
              "    </tr>\n",
              "  </tbody>\n",
              "</table>\n",
              "</div>\n",
              "      <button class=\"colab-df-convert\" onclick=\"convertToInteractive('df-a7856769-672b-487f-b18d-fee28273e885')\"\n",
              "              title=\"Convert this dataframe to an interactive table.\"\n",
              "              style=\"display:none;\">\n",
              "        \n",
              "  <svg xmlns=\"http://www.w3.org/2000/svg\" height=\"24px\"viewBox=\"0 0 24 24\"\n",
              "       width=\"24px\">\n",
              "    <path d=\"M0 0h24v24H0V0z\" fill=\"none\"/>\n",
              "    <path d=\"M18.56 5.44l.94 2.06.94-2.06 2.06-.94-2.06-.94-.94-2.06-.94 2.06-2.06.94zm-11 1L8.5 8.5l.94-2.06 2.06-.94-2.06-.94L8.5 2.5l-.94 2.06-2.06.94zm10 10l.94 2.06.94-2.06 2.06-.94-2.06-.94-.94-2.06-.94 2.06-2.06.94z\"/><path d=\"M17.41 7.96l-1.37-1.37c-.4-.4-.92-.59-1.43-.59-.52 0-1.04.2-1.43.59L10.3 9.45l-7.72 7.72c-.78.78-.78 2.05 0 2.83L4 21.41c.39.39.9.59 1.41.59.51 0 1.02-.2 1.41-.59l7.78-7.78 2.81-2.81c.8-.78.8-2.07 0-2.86zM5.41 20L4 18.59l7.72-7.72 1.47 1.35L5.41 20z\"/>\n",
              "  </svg>\n",
              "      </button>\n",
              "      \n",
              "  <style>\n",
              "    .colab-df-container {\n",
              "      display:flex;\n",
              "      flex-wrap:wrap;\n",
              "      gap: 12px;\n",
              "    }\n",
              "\n",
              "    .colab-df-convert {\n",
              "      background-color: #E8F0FE;\n",
              "      border: none;\n",
              "      border-radius: 50%;\n",
              "      cursor: pointer;\n",
              "      display: none;\n",
              "      fill: #1967D2;\n",
              "      height: 32px;\n",
              "      padding: 0 0 0 0;\n",
              "      width: 32px;\n",
              "    }\n",
              "\n",
              "    .colab-df-convert:hover {\n",
              "      background-color: #E2EBFA;\n",
              "      box-shadow: 0px 1px 2px rgba(60, 64, 67, 0.3), 0px 1px 3px 1px rgba(60, 64, 67, 0.15);\n",
              "      fill: #174EA6;\n",
              "    }\n",
              "\n",
              "    [theme=dark] .colab-df-convert {\n",
              "      background-color: #3B4455;\n",
              "      fill: #D2E3FC;\n",
              "    }\n",
              "\n",
              "    [theme=dark] .colab-df-convert:hover {\n",
              "      background-color: #434B5C;\n",
              "      box-shadow: 0px 1px 3px 1px rgba(0, 0, 0, 0.15);\n",
              "      filter: drop-shadow(0px 1px 2px rgba(0, 0, 0, 0.3));\n",
              "      fill: #FFFFFF;\n",
              "    }\n",
              "  </style>\n",
              "\n",
              "      <script>\n",
              "        const buttonEl =\n",
              "          document.querySelector('#df-a7856769-672b-487f-b18d-fee28273e885 button.colab-df-convert');\n",
              "        buttonEl.style.display =\n",
              "          google.colab.kernel.accessAllowed ? 'block' : 'none';\n",
              "\n",
              "        async function convertToInteractive(key) {\n",
              "          const element = document.querySelector('#df-a7856769-672b-487f-b18d-fee28273e885');\n",
              "          const dataTable =\n",
              "            await google.colab.kernel.invokeFunction('convertToInteractive',\n",
              "                                                     [key], {});\n",
              "          if (!dataTable) return;\n",
              "\n",
              "          const docLinkHtml = 'Like what you see? Visit the ' +\n",
              "            '<a target=\"_blank\" href=https://colab.research.google.com/notebooks/data_table.ipynb>data table notebook</a>'\n",
              "            + ' to learn more about interactive tables.';\n",
              "          element.innerHTML = '';\n",
              "          dataTable['output_type'] = 'display_data';\n",
              "          await google.colab.output.renderOutput(dataTable, element);\n",
              "          const docLink = document.createElement('div');\n",
              "          docLink.innerHTML = docLinkHtml;\n",
              "          element.appendChild(docLink);\n",
              "        }\n",
              "      </script>\n",
              "    </div>\n",
              "  </div>\n",
              "  "
            ],
            "text/plain": [
              "                            ADASYN    SMOTE RandomUnderSampler  \\\n",
              "LogisticRegression         0.89637  0.87565            0.61140   \n",
              "AdaBoostClassifier         0.98446  0.97927            0.81347   \n",
              "RandomForestClassifier     0.98446  0.98446            0.78238   \n",
              "Support Vector Classifier  0.66839  0.69430            0.68394   \n",
              "BaggingClassifier          0.98964  0.98446            0.84456   \n",
              "\n",
              "                          BorderlineSMOTE ClusterCentroids  \n",
              "LogisticRegression                0.90674          0.76166  \n",
              "AdaBoostClassifier                0.97927          0.41969  \n",
              "RandomForestClassifier            0.98964          0.52332  \n",
              "Support Vector Classifier         0.70984          0.50259  \n",
              "BaggingClassifier                 0.98446          0.62176  "
            ]
          },
          "metadata": {},
          "output_type": "display_data"
        }
      ],
      "source": [
        "# Print the results in a table\n",
        "columns = ['ADASYN', 'SMOTE', 'RandomUnderSampler', 'BorderlineSMOTE', 'ClusterCentroids']\n",
        "df_results = pd.DataFrame(results, index=['LogisticRegression', 'AdaBoostClassifier', 'RandomForestClassifier', 'Support Vector Classifier', 'BaggingClassifier'], columns=columns)\n",
        "\n",
        "formatted_results = df_results.applymap(lambda x: \"{:.5f}\".format(x))\n",
        "display(formatted_results)"
      ]
    },
    {
      "cell_type": "markdown",
      "metadata": {
        "id": "lifn3XXfEQCA"
      },
      "source": []
    }
  ],
  "metadata": {
    "colab": {
      "include_colab_link": true,
      "provenance": []
    },
    "kernelspec": {
      "display_name": "Python 3",
      "language": "python",
      "name": "python3"
    },
    "language_info": {
      "codemirror_mode": {
        "name": "ipython",
        "version": 3
      },
      "file_extension": ".py",
      "mimetype": "text/x-python",
      "name": "python",
      "nbconvert_exporter": "python",
      "pygments_lexer": "ipython3",
      "version": "3.7.12"
    }
  },
  "nbformat": 4,
  "nbformat_minor": 0
}
